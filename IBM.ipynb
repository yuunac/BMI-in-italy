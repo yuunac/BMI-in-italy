{
 "cells": [
  {
   "cell_type": "code",
   "execution_count": 208,
   "metadata": {},
   "outputs": [],
   "source": [
    "import pandas as pd\n",
    "import numpy as np\n",
    "import matplotlib.pyplot as plt\n",
    "#import delle librerie"
   ]
  },
  {
   "cell_type": "code",
   "execution_count": 209,
   "metadata": {},
   "outputs": [],
   "source": [
    "from pandas import DataFrame\n",
    "#import del dataframe"
   ]
  },
  {
   "cell_type": "code",
   "execution_count": 210,
   "metadata": {},
   "outputs": [],
   "source": [
    "territorio=pd.read_csv('C:/Users/magro/Desktop/progetto/Indice_Massa_Sesso.csv')\n",
    "#lettura del file .csv"
   ]
  },
  {
   "cell_type": "code",
   "execution_count": 211,
   "metadata": {},
   "outputs": [
    {
     "data": {
      "text/html": [
       "<div>\n",
       "<style scoped>\n",
       "    .dataframe tbody tr th:only-of-type {\n",
       "        vertical-align: middle;\n",
       "    }\n",
       "\n",
       "    .dataframe tbody tr th {\n",
       "        vertical-align: top;\n",
       "    }\n",
       "\n",
       "    .dataframe thead th {\n",
       "        text-align: right;\n",
       "    }\n",
       "</style>\n",
       "<table border=\"1\" class=\"dataframe\">\n",
       "  <thead>\n",
       "    <tr style=\"text-align: right;\">\n",
       "      <th></th>\n",
       "      <th>ITTER107</th>\n",
       "      <th>Territorio</th>\n",
       "      <th>TIPO_DATO_AVQ</th>\n",
       "      <th>Tipo dato</th>\n",
       "      <th>MISURA_AVQ</th>\n",
       "      <th>Misura</th>\n",
       "      <th>SEXISTAT1</th>\n",
       "      <th>Sesso</th>\n",
       "      <th>TIME</th>\n",
       "      <th>Seleziona periodo</th>\n",
       "      <th>Value</th>\n",
       "      <th>Flag Codes</th>\n",
       "      <th>Flags</th>\n",
       "    </tr>\n",
       "  </thead>\n",
       "  <tbody>\n",
       "    <tr>\n",
       "      <th>0</th>\n",
       "      <td>IT</td>\n",
       "      <td>Italia</td>\n",
       "      <td>18_BMI_SOTTO</td>\n",
       "      <td>sottopeso</td>\n",
       "      <td>THV</td>\n",
       "      <td>valori in migliaia</td>\n",
       "      <td>1</td>\n",
       "      <td>maschi</td>\n",
       "      <td>2020</td>\n",
       "      <td>2020</td>\n",
       "      <td>187.0</td>\n",
       "      <td>NaN</td>\n",
       "      <td>NaN</td>\n",
       "    </tr>\n",
       "    <tr>\n",
       "      <th>1</th>\n",
       "      <td>IT</td>\n",
       "      <td>Italia</td>\n",
       "      <td>18_BMI_NORMO</td>\n",
       "      <td>normopeso</td>\n",
       "      <td>THV</td>\n",
       "      <td>valori in migliaia</td>\n",
       "      <td>1</td>\n",
       "      <td>maschi</td>\n",
       "      <td>2020</td>\n",
       "      <td>2020</td>\n",
       "      <td>10376.0</td>\n",
       "      <td>NaN</td>\n",
       "      <td>NaN</td>\n",
       "    </tr>\n",
       "    <tr>\n",
       "      <th>2</th>\n",
       "      <td>IT</td>\n",
       "      <td>Italia</td>\n",
       "      <td>18_BMI_SOVRA</td>\n",
       "      <td>sovrappeso</td>\n",
       "      <td>THV</td>\n",
       "      <td>valori in migliaia</td>\n",
       "      <td>1</td>\n",
       "      <td>maschi</td>\n",
       "      <td>2020</td>\n",
       "      <td>2020</td>\n",
       "      <td>10601.0</td>\n",
       "      <td>NaN</td>\n",
       "      <td>NaN</td>\n",
       "    </tr>\n",
       "    <tr>\n",
       "      <th>3</th>\n",
       "      <td>IT</td>\n",
       "      <td>Italia</td>\n",
       "      <td>18_BMI_OBE</td>\n",
       "      <td>obesi</td>\n",
       "      <td>THV</td>\n",
       "      <td>valori in migliaia</td>\n",
       "      <td>1</td>\n",
       "      <td>maschi</td>\n",
       "      <td>2020</td>\n",
       "      <td>2020</td>\n",
       "      <td>2978.0</td>\n",
       "      <td>NaN</td>\n",
       "      <td>NaN</td>\n",
       "    </tr>\n",
       "    <tr>\n",
       "      <th>4</th>\n",
       "      <td>IT</td>\n",
       "      <td>Italia</td>\n",
       "      <td>18_BMI_SOTTO</td>\n",
       "      <td>sottopeso</td>\n",
       "      <td>THV</td>\n",
       "      <td>valori in migliaia</td>\n",
       "      <td>2</td>\n",
       "      <td>femmine</td>\n",
       "      <td>2020</td>\n",
       "      <td>2020</td>\n",
       "      <td>1353.0</td>\n",
       "      <td>NaN</td>\n",
       "      <td>NaN</td>\n",
       "    </tr>\n",
       "    <tr>\n",
       "      <th>...</th>\n",
       "      <td>...</td>\n",
       "      <td>...</td>\n",
       "      <td>...</td>\n",
       "      <td>...</td>\n",
       "      <td>...</td>\n",
       "      <td>...</td>\n",
       "      <td>...</td>\n",
       "      <td>...</td>\n",
       "      <td>...</td>\n",
       "      <td>...</td>\n",
       "      <td>...</td>\n",
       "      <td>...</td>\n",
       "      <td>...</td>\n",
       "    </tr>\n",
       "    <tr>\n",
       "      <th>299</th>\n",
       "      <td>2</td>\n",
       "      <td>centro area metropolitana</td>\n",
       "      <td>18_BMI_OBE</td>\n",
       "      <td>obesi</td>\n",
       "      <td>THV</td>\n",
       "      <td>valori in migliaia</td>\n",
       "      <td>9</td>\n",
       "      <td>totale</td>\n",
       "      <td>2020</td>\n",
       "      <td>2020</td>\n",
       "      <td>713.0</td>\n",
       "      <td>NaN</td>\n",
       "      <td>NaN</td>\n",
       "    </tr>\n",
       "    <tr>\n",
       "      <th>300</th>\n",
       "      <td>7</td>\n",
       "      <td>2.001 - 10.000 ab.</td>\n",
       "      <td>18_BMI_OBE</td>\n",
       "      <td>obesi</td>\n",
       "      <td>HSC</td>\n",
       "      <td>per 100 persone con le stesse caratteristiche</td>\n",
       "      <td>9</td>\n",
       "      <td>totale</td>\n",
       "      <td>2020</td>\n",
       "      <td>2020</td>\n",
       "      <td>12.2</td>\n",
       "      <td>NaN</td>\n",
       "      <td>NaN</td>\n",
       "    </tr>\n",
       "    <tr>\n",
       "      <th>301</th>\n",
       "      <td>8</td>\n",
       "      <td>10.001 - 50.000 ab.</td>\n",
       "      <td>18_BMI_OBE</td>\n",
       "      <td>obesi</td>\n",
       "      <td>THV</td>\n",
       "      <td>valori in migliaia</td>\n",
       "      <td>9</td>\n",
       "      <td>totale</td>\n",
       "      <td>2020</td>\n",
       "      <td>2020</td>\n",
       "      <td>1519.0</td>\n",
       "      <td>NaN</td>\n",
       "      <td>NaN</td>\n",
       "    </tr>\n",
       "    <tr>\n",
       "      <th>302</th>\n",
       "      <td>7</td>\n",
       "      <td>2.001 - 10.000 ab.</td>\n",
       "      <td>18_BMI_SOTTO</td>\n",
       "      <td>sottopeso</td>\n",
       "      <td>THV</td>\n",
       "      <td>valori in migliaia</td>\n",
       "      <td>9</td>\n",
       "      <td>totale</td>\n",
       "      <td>2020</td>\n",
       "      <td>2020</td>\n",
       "      <td>320.0</td>\n",
       "      <td>NaN</td>\n",
       "      <td>NaN</td>\n",
       "    </tr>\n",
       "    <tr>\n",
       "      <th>303</th>\n",
       "      <td>3</td>\n",
       "      <td>periferia area metropolitana</td>\n",
       "      <td>18_BMI_SOVRA</td>\n",
       "      <td>sovrappeso</td>\n",
       "      <td>HSC</td>\n",
       "      <td>per 100 persone con le stesse caratteristiche</td>\n",
       "      <td>9</td>\n",
       "      <td>totale</td>\n",
       "      <td>2020</td>\n",
       "      <td>2020</td>\n",
       "      <td>37.4</td>\n",
       "      <td>NaN</td>\n",
       "      <td>NaN</td>\n",
       "    </tr>\n",
       "  </tbody>\n",
       "</table>\n",
       "<p>304 rows × 13 columns</p>\n",
       "</div>"
      ],
      "text/plain": [
       "    ITTER107                    Territorio TIPO_DATO_AVQ   Tipo dato  \\\n",
       "0         IT                        Italia  18_BMI_SOTTO   sottopeso   \n",
       "1         IT                        Italia  18_BMI_NORMO   normopeso   \n",
       "2         IT                        Italia  18_BMI_SOVRA  sovrappeso   \n",
       "3         IT                        Italia    18_BMI_OBE       obesi   \n",
       "4         IT                        Italia  18_BMI_SOTTO   sottopeso   \n",
       "..       ...                           ...           ...         ...   \n",
       "299        2     centro area metropolitana    18_BMI_OBE       obesi   \n",
       "300        7            2.001 - 10.000 ab.    18_BMI_OBE       obesi   \n",
       "301        8           10.001 - 50.000 ab.    18_BMI_OBE       obesi   \n",
       "302        7            2.001 - 10.000 ab.  18_BMI_SOTTO   sottopeso   \n",
       "303        3  periferia area metropolitana  18_BMI_SOVRA  sovrappeso   \n",
       "\n",
       "    MISURA_AVQ                                         Misura  SEXISTAT1  \\\n",
       "0          THV                             valori in migliaia          1   \n",
       "1          THV                             valori in migliaia          1   \n",
       "2          THV                             valori in migliaia          1   \n",
       "3          THV                             valori in migliaia          1   \n",
       "4          THV                             valori in migliaia          2   \n",
       "..         ...                                            ...        ...   \n",
       "299        THV                             valori in migliaia          9   \n",
       "300        HSC  per 100 persone con le stesse caratteristiche          9   \n",
       "301        THV                             valori in migliaia          9   \n",
       "302        THV                             valori in migliaia          9   \n",
       "303        HSC  per 100 persone con le stesse caratteristiche          9   \n",
       "\n",
       "       Sesso  TIME  Seleziona periodo    Value  Flag Codes  Flags  \n",
       "0     maschi  2020               2020    187.0         NaN    NaN  \n",
       "1     maschi  2020               2020  10376.0         NaN    NaN  \n",
       "2     maschi  2020               2020  10601.0         NaN    NaN  \n",
       "3     maschi  2020               2020   2978.0         NaN    NaN  \n",
       "4    femmine  2020               2020   1353.0         NaN    NaN  \n",
       "..       ...   ...                ...      ...         ...    ...  \n",
       "299   totale  2020               2020    713.0         NaN    NaN  \n",
       "300   totale  2020               2020     12.2         NaN    NaN  \n",
       "301   totale  2020               2020   1519.0         NaN    NaN  \n",
       "302   totale  2020               2020    320.0         NaN    NaN  \n",
       "303   totale  2020               2020     37.4         NaN    NaN  \n",
       "\n",
       "[304 rows x 13 columns]"
      ]
     },
     "execution_count": 211,
     "metadata": {},
     "output_type": "execute_result"
    }
   ],
   "source": [
    "territorio\n",
    "#visualizzazione del .csv"
   ]
  },
  {
   "cell_type": "code",
   "execution_count": 212,
   "metadata": {},
   "outputs": [],
   "source": [
    "del territorio['ITTER107']\n",
    "#eliminazione di una colonna di prova"
   ]
  },
  {
   "cell_type": "code",
   "execution_count": 213,
   "metadata": {},
   "outputs": [
    {
     "data": {
      "text/html": [
       "<div>\n",
       "<style scoped>\n",
       "    .dataframe tbody tr th:only-of-type {\n",
       "        vertical-align: middle;\n",
       "    }\n",
       "\n",
       "    .dataframe tbody tr th {\n",
       "        vertical-align: top;\n",
       "    }\n",
       "\n",
       "    .dataframe thead th {\n",
       "        text-align: right;\n",
       "    }\n",
       "</style>\n",
       "<table border=\"1\" class=\"dataframe\">\n",
       "  <thead>\n",
       "    <tr style=\"text-align: right;\">\n",
       "      <th></th>\n",
       "      <th>Territorio</th>\n",
       "      <th>TIPO_DATO_AVQ</th>\n",
       "      <th>Tipo dato</th>\n",
       "      <th>MISURA_AVQ</th>\n",
       "      <th>Misura</th>\n",
       "      <th>SEXISTAT1</th>\n",
       "      <th>Sesso</th>\n",
       "      <th>TIME</th>\n",
       "      <th>Seleziona periodo</th>\n",
       "      <th>Value</th>\n",
       "      <th>Flag Codes</th>\n",
       "      <th>Flags</th>\n",
       "    </tr>\n",
       "  </thead>\n",
       "  <tbody>\n",
       "    <tr>\n",
       "      <th>0</th>\n",
       "      <td>Italia</td>\n",
       "      <td>18_BMI_SOTTO</td>\n",
       "      <td>sottopeso</td>\n",
       "      <td>THV</td>\n",
       "      <td>valori in migliaia</td>\n",
       "      <td>1</td>\n",
       "      <td>maschi</td>\n",
       "      <td>2020</td>\n",
       "      <td>2020</td>\n",
       "      <td>187.0</td>\n",
       "      <td>NaN</td>\n",
       "      <td>NaN</td>\n",
       "    </tr>\n",
       "    <tr>\n",
       "      <th>1</th>\n",
       "      <td>Italia</td>\n",
       "      <td>18_BMI_NORMO</td>\n",
       "      <td>normopeso</td>\n",
       "      <td>THV</td>\n",
       "      <td>valori in migliaia</td>\n",
       "      <td>1</td>\n",
       "      <td>maschi</td>\n",
       "      <td>2020</td>\n",
       "      <td>2020</td>\n",
       "      <td>10376.0</td>\n",
       "      <td>NaN</td>\n",
       "      <td>NaN</td>\n",
       "    </tr>\n",
       "    <tr>\n",
       "      <th>2</th>\n",
       "      <td>Italia</td>\n",
       "      <td>18_BMI_SOVRA</td>\n",
       "      <td>sovrappeso</td>\n",
       "      <td>THV</td>\n",
       "      <td>valori in migliaia</td>\n",
       "      <td>1</td>\n",
       "      <td>maschi</td>\n",
       "      <td>2020</td>\n",
       "      <td>2020</td>\n",
       "      <td>10601.0</td>\n",
       "      <td>NaN</td>\n",
       "      <td>NaN</td>\n",
       "    </tr>\n",
       "    <tr>\n",
       "      <th>3</th>\n",
       "      <td>Italia</td>\n",
       "      <td>18_BMI_OBE</td>\n",
       "      <td>obesi</td>\n",
       "      <td>THV</td>\n",
       "      <td>valori in migliaia</td>\n",
       "      <td>1</td>\n",
       "      <td>maschi</td>\n",
       "      <td>2020</td>\n",
       "      <td>2020</td>\n",
       "      <td>2978.0</td>\n",
       "      <td>NaN</td>\n",
       "      <td>NaN</td>\n",
       "    </tr>\n",
       "    <tr>\n",
       "      <th>4</th>\n",
       "      <td>Italia</td>\n",
       "      <td>18_BMI_SOTTO</td>\n",
       "      <td>sottopeso</td>\n",
       "      <td>THV</td>\n",
       "      <td>valori in migliaia</td>\n",
       "      <td>2</td>\n",
       "      <td>femmine</td>\n",
       "      <td>2020</td>\n",
       "      <td>2020</td>\n",
       "      <td>1353.0</td>\n",
       "      <td>NaN</td>\n",
       "      <td>NaN</td>\n",
       "    </tr>\n",
       "    <tr>\n",
       "      <th>...</th>\n",
       "      <td>...</td>\n",
       "      <td>...</td>\n",
       "      <td>...</td>\n",
       "      <td>...</td>\n",
       "      <td>...</td>\n",
       "      <td>...</td>\n",
       "      <td>...</td>\n",
       "      <td>...</td>\n",
       "      <td>...</td>\n",
       "      <td>...</td>\n",
       "      <td>...</td>\n",
       "      <td>...</td>\n",
       "    </tr>\n",
       "    <tr>\n",
       "      <th>299</th>\n",
       "      <td>centro area metropolitana</td>\n",
       "      <td>18_BMI_OBE</td>\n",
       "      <td>obesi</td>\n",
       "      <td>THV</td>\n",
       "      <td>valori in migliaia</td>\n",
       "      <td>9</td>\n",
       "      <td>totale</td>\n",
       "      <td>2020</td>\n",
       "      <td>2020</td>\n",
       "      <td>713.0</td>\n",
       "      <td>NaN</td>\n",
       "      <td>NaN</td>\n",
       "    </tr>\n",
       "    <tr>\n",
       "      <th>300</th>\n",
       "      <td>2.001 - 10.000 ab.</td>\n",
       "      <td>18_BMI_OBE</td>\n",
       "      <td>obesi</td>\n",
       "      <td>HSC</td>\n",
       "      <td>per 100 persone con le stesse caratteristiche</td>\n",
       "      <td>9</td>\n",
       "      <td>totale</td>\n",
       "      <td>2020</td>\n",
       "      <td>2020</td>\n",
       "      <td>12.2</td>\n",
       "      <td>NaN</td>\n",
       "      <td>NaN</td>\n",
       "    </tr>\n",
       "    <tr>\n",
       "      <th>301</th>\n",
       "      <td>10.001 - 50.000 ab.</td>\n",
       "      <td>18_BMI_OBE</td>\n",
       "      <td>obesi</td>\n",
       "      <td>THV</td>\n",
       "      <td>valori in migliaia</td>\n",
       "      <td>9</td>\n",
       "      <td>totale</td>\n",
       "      <td>2020</td>\n",
       "      <td>2020</td>\n",
       "      <td>1519.0</td>\n",
       "      <td>NaN</td>\n",
       "      <td>NaN</td>\n",
       "    </tr>\n",
       "    <tr>\n",
       "      <th>302</th>\n",
       "      <td>2.001 - 10.000 ab.</td>\n",
       "      <td>18_BMI_SOTTO</td>\n",
       "      <td>sottopeso</td>\n",
       "      <td>THV</td>\n",
       "      <td>valori in migliaia</td>\n",
       "      <td>9</td>\n",
       "      <td>totale</td>\n",
       "      <td>2020</td>\n",
       "      <td>2020</td>\n",
       "      <td>320.0</td>\n",
       "      <td>NaN</td>\n",
       "      <td>NaN</td>\n",
       "    </tr>\n",
       "    <tr>\n",
       "      <th>303</th>\n",
       "      <td>periferia area metropolitana</td>\n",
       "      <td>18_BMI_SOVRA</td>\n",
       "      <td>sovrappeso</td>\n",
       "      <td>HSC</td>\n",
       "      <td>per 100 persone con le stesse caratteristiche</td>\n",
       "      <td>9</td>\n",
       "      <td>totale</td>\n",
       "      <td>2020</td>\n",
       "      <td>2020</td>\n",
       "      <td>37.4</td>\n",
       "      <td>NaN</td>\n",
       "      <td>NaN</td>\n",
       "    </tr>\n",
       "  </tbody>\n",
       "</table>\n",
       "<p>304 rows × 12 columns</p>\n",
       "</div>"
      ],
      "text/plain": [
       "                       Territorio TIPO_DATO_AVQ   Tipo dato MISURA_AVQ  \\\n",
       "0                          Italia  18_BMI_SOTTO   sottopeso        THV   \n",
       "1                          Italia  18_BMI_NORMO   normopeso        THV   \n",
       "2                          Italia  18_BMI_SOVRA  sovrappeso        THV   \n",
       "3                          Italia    18_BMI_OBE       obesi        THV   \n",
       "4                          Italia  18_BMI_SOTTO   sottopeso        THV   \n",
       "..                            ...           ...         ...        ...   \n",
       "299     centro area metropolitana    18_BMI_OBE       obesi        THV   \n",
       "300            2.001 - 10.000 ab.    18_BMI_OBE       obesi        HSC   \n",
       "301           10.001 - 50.000 ab.    18_BMI_OBE       obesi        THV   \n",
       "302            2.001 - 10.000 ab.  18_BMI_SOTTO   sottopeso        THV   \n",
       "303  periferia area metropolitana  18_BMI_SOVRA  sovrappeso        HSC   \n",
       "\n",
       "                                            Misura  SEXISTAT1    Sesso  TIME  \\\n",
       "0                               valori in migliaia          1   maschi  2020   \n",
       "1                               valori in migliaia          1   maschi  2020   \n",
       "2                               valori in migliaia          1   maschi  2020   \n",
       "3                               valori in migliaia          1   maschi  2020   \n",
       "4                               valori in migliaia          2  femmine  2020   \n",
       "..                                             ...        ...      ...   ...   \n",
       "299                             valori in migliaia          9   totale  2020   \n",
       "300  per 100 persone con le stesse caratteristiche          9   totale  2020   \n",
       "301                             valori in migliaia          9   totale  2020   \n",
       "302                             valori in migliaia          9   totale  2020   \n",
       "303  per 100 persone con le stesse caratteristiche          9   totale  2020   \n",
       "\n",
       "     Seleziona periodo    Value  Flag Codes  Flags  \n",
       "0                 2020    187.0         NaN    NaN  \n",
       "1                 2020  10376.0         NaN    NaN  \n",
       "2                 2020  10601.0         NaN    NaN  \n",
       "3                 2020   2978.0         NaN    NaN  \n",
       "4                 2020   1353.0         NaN    NaN  \n",
       "..                 ...      ...         ...    ...  \n",
       "299               2020    713.0         NaN    NaN  \n",
       "300               2020     12.2         NaN    NaN  \n",
       "301               2020   1519.0         NaN    NaN  \n",
       "302               2020    320.0         NaN    NaN  \n",
       "303               2020     37.4         NaN    NaN  \n",
       "\n",
       "[304 rows x 12 columns]"
      ]
     },
     "execution_count": 213,
     "metadata": {},
     "output_type": "execute_result"
    }
   ],
   "source": [
    "territorio\n",
    "#visualizzazione di prova"
   ]
  },
  {
   "cell_type": "code",
   "execution_count": 214,
   "metadata": {},
   "outputs": [],
   "source": [
    "del territorio['TIPO_DATO_AVQ']\n",
    "del territorio['MISURA_AVQ']\n",
    "del territorio['SEXISTAT1']\n",
    "del territorio['Seleziona periodo']\n",
    "del territorio['Flag Codes']\n",
    "del territorio['Flags']\n",
    "#eliminazione colonne inutili"
   ]
  },
  {
   "cell_type": "code",
   "execution_count": 215,
   "metadata": {},
   "outputs": [
    {
     "data": {
      "text/html": [
       "<div>\n",
       "<style scoped>\n",
       "    .dataframe tbody tr th:only-of-type {\n",
       "        vertical-align: middle;\n",
       "    }\n",
       "\n",
       "    .dataframe tbody tr th {\n",
       "        vertical-align: top;\n",
       "    }\n",
       "\n",
       "    .dataframe thead th {\n",
       "        text-align: right;\n",
       "    }\n",
       "</style>\n",
       "<table border=\"1\" class=\"dataframe\">\n",
       "  <thead>\n",
       "    <tr style=\"text-align: right;\">\n",
       "      <th></th>\n",
       "      <th>Territorio</th>\n",
       "      <th>Tipo dato</th>\n",
       "      <th>Misura</th>\n",
       "      <th>Sesso</th>\n",
       "      <th>TIME</th>\n",
       "      <th>Value</th>\n",
       "    </tr>\n",
       "  </thead>\n",
       "  <tbody>\n",
       "    <tr>\n",
       "      <th>0</th>\n",
       "      <td>Italia</td>\n",
       "      <td>sottopeso</td>\n",
       "      <td>valori in migliaia</td>\n",
       "      <td>maschi</td>\n",
       "      <td>2020</td>\n",
       "      <td>187.0</td>\n",
       "    </tr>\n",
       "    <tr>\n",
       "      <th>1</th>\n",
       "      <td>Italia</td>\n",
       "      <td>normopeso</td>\n",
       "      <td>valori in migliaia</td>\n",
       "      <td>maschi</td>\n",
       "      <td>2020</td>\n",
       "      <td>10376.0</td>\n",
       "    </tr>\n",
       "    <tr>\n",
       "      <th>2</th>\n",
       "      <td>Italia</td>\n",
       "      <td>sovrappeso</td>\n",
       "      <td>valori in migliaia</td>\n",
       "      <td>maschi</td>\n",
       "      <td>2020</td>\n",
       "      <td>10601.0</td>\n",
       "    </tr>\n",
       "    <tr>\n",
       "      <th>3</th>\n",
       "      <td>Italia</td>\n",
       "      <td>obesi</td>\n",
       "      <td>valori in migliaia</td>\n",
       "      <td>maschi</td>\n",
       "      <td>2020</td>\n",
       "      <td>2978.0</td>\n",
       "    </tr>\n",
       "    <tr>\n",
       "      <th>4</th>\n",
       "      <td>Italia</td>\n",
       "      <td>sottopeso</td>\n",
       "      <td>valori in migliaia</td>\n",
       "      <td>femmine</td>\n",
       "      <td>2020</td>\n",
       "      <td>1353.0</td>\n",
       "    </tr>\n",
       "    <tr>\n",
       "      <th>...</th>\n",
       "      <td>...</td>\n",
       "      <td>...</td>\n",
       "      <td>...</td>\n",
       "      <td>...</td>\n",
       "      <td>...</td>\n",
       "      <td>...</td>\n",
       "    </tr>\n",
       "    <tr>\n",
       "      <th>299</th>\n",
       "      <td>centro area metropolitana</td>\n",
       "      <td>obesi</td>\n",
       "      <td>valori in migliaia</td>\n",
       "      <td>totale</td>\n",
       "      <td>2020</td>\n",
       "      <td>713.0</td>\n",
       "    </tr>\n",
       "    <tr>\n",
       "      <th>300</th>\n",
       "      <td>2.001 - 10.000 ab.</td>\n",
       "      <td>obesi</td>\n",
       "      <td>per 100 persone con le stesse caratteristiche</td>\n",
       "      <td>totale</td>\n",
       "      <td>2020</td>\n",
       "      <td>12.2</td>\n",
       "    </tr>\n",
       "    <tr>\n",
       "      <th>301</th>\n",
       "      <td>10.001 - 50.000 ab.</td>\n",
       "      <td>obesi</td>\n",
       "      <td>valori in migliaia</td>\n",
       "      <td>totale</td>\n",
       "      <td>2020</td>\n",
       "      <td>1519.0</td>\n",
       "    </tr>\n",
       "    <tr>\n",
       "      <th>302</th>\n",
       "      <td>2.001 - 10.000 ab.</td>\n",
       "      <td>sottopeso</td>\n",
       "      <td>valori in migliaia</td>\n",
       "      <td>totale</td>\n",
       "      <td>2020</td>\n",
       "      <td>320.0</td>\n",
       "    </tr>\n",
       "    <tr>\n",
       "      <th>303</th>\n",
       "      <td>periferia area metropolitana</td>\n",
       "      <td>sovrappeso</td>\n",
       "      <td>per 100 persone con le stesse caratteristiche</td>\n",
       "      <td>totale</td>\n",
       "      <td>2020</td>\n",
       "      <td>37.4</td>\n",
       "    </tr>\n",
       "  </tbody>\n",
       "</table>\n",
       "<p>304 rows × 6 columns</p>\n",
       "</div>"
      ],
      "text/plain": [
       "                       Territorio   Tipo dato  \\\n",
       "0                          Italia   sottopeso   \n",
       "1                          Italia   normopeso   \n",
       "2                          Italia  sovrappeso   \n",
       "3                          Italia       obesi   \n",
       "4                          Italia   sottopeso   \n",
       "..                            ...         ...   \n",
       "299     centro area metropolitana       obesi   \n",
       "300            2.001 - 10.000 ab.       obesi   \n",
       "301           10.001 - 50.000 ab.       obesi   \n",
       "302            2.001 - 10.000 ab.   sottopeso   \n",
       "303  periferia area metropolitana  sovrappeso   \n",
       "\n",
       "                                            Misura    Sesso  TIME    Value  \n",
       "0                               valori in migliaia   maschi  2020    187.0  \n",
       "1                               valori in migliaia   maschi  2020  10376.0  \n",
       "2                               valori in migliaia   maschi  2020  10601.0  \n",
       "3                               valori in migliaia   maschi  2020   2978.0  \n",
       "4                               valori in migliaia  femmine  2020   1353.0  \n",
       "..                                             ...      ...   ...      ...  \n",
       "299                             valori in migliaia   totale  2020    713.0  \n",
       "300  per 100 persone con le stesse caratteristiche   totale  2020     12.2  \n",
       "301                             valori in migliaia   totale  2020   1519.0  \n",
       "302                             valori in migliaia   totale  2020    320.0  \n",
       "303  per 100 persone con le stesse caratteristiche   totale  2020     37.4  \n",
       "\n",
       "[304 rows x 6 columns]"
      ]
     },
     "execution_count": 215,
     "metadata": {},
     "output_type": "execute_result"
    }
   ],
   "source": [
    "territorio\n",
    "#visualizzazione "
   ]
  },
  {
   "cell_type": "code",
   "execution_count": 216,
   "metadata": {},
   "outputs": [
    {
     "data": {
      "text/html": [
       "<div>\n",
       "<style scoped>\n",
       "    .dataframe tbody tr th:only-of-type {\n",
       "        vertical-align: middle;\n",
       "    }\n",
       "\n",
       "    .dataframe tbody tr th {\n",
       "        vertical-align: top;\n",
       "    }\n",
       "\n",
       "    .dataframe thead th {\n",
       "        text-align: right;\n",
       "    }\n",
       "</style>\n",
       "<table border=\"1\" class=\"dataframe\">\n",
       "  <thead>\n",
       "    <tr style=\"text-align: right;\">\n",
       "      <th></th>\n",
       "      <th>Territorio</th>\n",
       "      <th>Tipo dato</th>\n",
       "      <th>Misura</th>\n",
       "      <th>Sesso</th>\n",
       "      <th>TIME</th>\n",
       "      <th>Value</th>\n",
       "    </tr>\n",
       "  </thead>\n",
       "  <tbody>\n",
       "    <tr>\n",
       "      <th>0</th>\n",
       "      <td>Italia</td>\n",
       "      <td>sottopeso</td>\n",
       "      <td>valori in migliaia</td>\n",
       "      <td>maschi</td>\n",
       "      <td>2020</td>\n",
       "      <td>187.0</td>\n",
       "    </tr>\n",
       "    <tr>\n",
       "      <th>1</th>\n",
       "      <td>Italia</td>\n",
       "      <td>normopeso</td>\n",
       "      <td>valori in migliaia</td>\n",
       "      <td>maschi</td>\n",
       "      <td>2020</td>\n",
       "      <td>10376.0</td>\n",
       "    </tr>\n",
       "    <tr>\n",
       "      <th>2</th>\n",
       "      <td>Italia</td>\n",
       "      <td>sovrappeso</td>\n",
       "      <td>valori in migliaia</td>\n",
       "      <td>maschi</td>\n",
       "      <td>2020</td>\n",
       "      <td>10601.0</td>\n",
       "    </tr>\n",
       "    <tr>\n",
       "      <th>3</th>\n",
       "      <td>Italia</td>\n",
       "      <td>obesi</td>\n",
       "      <td>valori in migliaia</td>\n",
       "      <td>maschi</td>\n",
       "      <td>2020</td>\n",
       "      <td>2978.0</td>\n",
       "    </tr>\n",
       "    <tr>\n",
       "      <th>4</th>\n",
       "      <td>Italia</td>\n",
       "      <td>sottopeso</td>\n",
       "      <td>valori in migliaia</td>\n",
       "      <td>femmine</td>\n",
       "      <td>2020</td>\n",
       "      <td>1353.0</td>\n",
       "    </tr>\n",
       "    <tr>\n",
       "      <th>...</th>\n",
       "      <td>...</td>\n",
       "      <td>...</td>\n",
       "      <td>...</td>\n",
       "      <td>...</td>\n",
       "      <td>...</td>\n",
       "      <td>...</td>\n",
       "    </tr>\n",
       "    <tr>\n",
       "      <th>299</th>\n",
       "      <td>centro area metropolitana</td>\n",
       "      <td>obesi</td>\n",
       "      <td>valori in migliaia</td>\n",
       "      <td>totale</td>\n",
       "      <td>2020</td>\n",
       "      <td>713.0</td>\n",
       "    </tr>\n",
       "    <tr>\n",
       "      <th>300</th>\n",
       "      <td>2.001 - 10.000 ab.</td>\n",
       "      <td>obesi</td>\n",
       "      <td>per 100 persone con le stesse caratteristiche</td>\n",
       "      <td>totale</td>\n",
       "      <td>2020</td>\n",
       "      <td>12.2</td>\n",
       "    </tr>\n",
       "    <tr>\n",
       "      <th>301</th>\n",
       "      <td>10.001 - 50.000 ab.</td>\n",
       "      <td>obesi</td>\n",
       "      <td>valori in migliaia</td>\n",
       "      <td>totale</td>\n",
       "      <td>2020</td>\n",
       "      <td>1519.0</td>\n",
       "    </tr>\n",
       "    <tr>\n",
       "      <th>302</th>\n",
       "      <td>2.001 - 10.000 ab.</td>\n",
       "      <td>sottopeso</td>\n",
       "      <td>valori in migliaia</td>\n",
       "      <td>totale</td>\n",
       "      <td>2020</td>\n",
       "      <td>320.0</td>\n",
       "    </tr>\n",
       "    <tr>\n",
       "      <th>303</th>\n",
       "      <td>periferia area metropolitana</td>\n",
       "      <td>sovrappeso</td>\n",
       "      <td>per 100 persone con le stesse caratteristiche</td>\n",
       "      <td>totale</td>\n",
       "      <td>2020</td>\n",
       "      <td>37.4</td>\n",
       "    </tr>\n",
       "  </tbody>\n",
       "</table>\n",
       "<p>304 rows × 6 columns</p>\n",
       "</div>"
      ],
      "text/plain": [
       "                       Territorio   Tipo dato  \\\n",
       "0                          Italia   sottopeso   \n",
       "1                          Italia   normopeso   \n",
       "2                          Italia  sovrappeso   \n",
       "3                          Italia       obesi   \n",
       "4                          Italia   sottopeso   \n",
       "..                            ...         ...   \n",
       "299     centro area metropolitana       obesi   \n",
       "300            2.001 - 10.000 ab.       obesi   \n",
       "301           10.001 - 50.000 ab.       obesi   \n",
       "302            2.001 - 10.000 ab.   sottopeso   \n",
       "303  periferia area metropolitana  sovrappeso   \n",
       "\n",
       "                                            Misura    Sesso  TIME    Value  \n",
       "0                               valori in migliaia   maschi  2020    187.0  \n",
       "1                               valori in migliaia   maschi  2020  10376.0  \n",
       "2                               valori in migliaia   maschi  2020  10601.0  \n",
       "3                               valori in migliaia   maschi  2020   2978.0  \n",
       "4                               valori in migliaia  femmine  2020   1353.0  \n",
       "..                                             ...      ...   ...      ...  \n",
       "299                             valori in migliaia   totale  2020    713.0  \n",
       "300  per 100 persone con le stesse caratteristiche   totale  2020     12.2  \n",
       "301                             valori in migliaia   totale  2020   1519.0  \n",
       "302                             valori in migliaia   totale  2020    320.0  \n",
       "303  per 100 persone con le stesse caratteristiche   totale  2020     37.4  \n",
       "\n",
       "[304 rows x 6 columns]"
      ]
     },
     "execution_count": 216,
     "metadata": {},
     "output_type": "execute_result"
    }
   ],
   "source": [
    "territorio"
   ]
  },
  {
   "cell_type": "code",
   "execution_count": 217,
   "metadata": {},
   "outputs": [
    {
     "data": {
      "text/html": [
       "<div>\n",
       "<style scoped>\n",
       "    .dataframe tbody tr th:only-of-type {\n",
       "        vertical-align: middle;\n",
       "    }\n",
       "\n",
       "    .dataframe tbody tr th {\n",
       "        vertical-align: top;\n",
       "    }\n",
       "\n",
       "    .dataframe thead th {\n",
       "        text-align: right;\n",
       "    }\n",
       "</style>\n",
       "<table border=\"1\" class=\"dataframe\">\n",
       "  <thead>\n",
       "    <tr style=\"text-align: right;\">\n",
       "      <th></th>\n",
       "      <th>Territorio</th>\n",
       "      <th>Tipo dato</th>\n",
       "      <th>Misura</th>\n",
       "      <th>Sesso</th>\n",
       "      <th>TIME</th>\n",
       "      <th>Value</th>\n",
       "    </tr>\n",
       "  </thead>\n",
       "  <tbody>\n",
       "    <tr>\n",
       "      <th>44</th>\n",
       "      <td>Piemonte</td>\n",
       "      <td>sottopeso</td>\n",
       "      <td>per 100 persone con le stesse caratteristiche</td>\n",
       "      <td>totale</td>\n",
       "      <td>2020</td>\n",
       "      <td>3.5</td>\n",
       "    </tr>\n",
       "    <tr>\n",
       "      <th>45</th>\n",
       "      <td>Piemonte</td>\n",
       "      <td>normopeso</td>\n",
       "      <td>per 100 persone con le stesse caratteristiche</td>\n",
       "      <td>totale</td>\n",
       "      <td>2020</td>\n",
       "      <td>52.0</td>\n",
       "    </tr>\n",
       "    <tr>\n",
       "      <th>46</th>\n",
       "      <td>Piemonte</td>\n",
       "      <td>sovrappeso</td>\n",
       "      <td>per 100 persone con le stesse caratteristiche</td>\n",
       "      <td>totale</td>\n",
       "      <td>2020</td>\n",
       "      <td>33.8</td>\n",
       "    </tr>\n",
       "    <tr>\n",
       "      <th>47</th>\n",
       "      <td>Piemonte</td>\n",
       "      <td>obesi</td>\n",
       "      <td>per 100 persone con le stesse caratteristiche</td>\n",
       "      <td>totale</td>\n",
       "      <td>2020</td>\n",
       "      <td>10.6</td>\n",
       "    </tr>\n",
       "  </tbody>\n",
       "</table>\n",
       "</div>"
      ],
      "text/plain": [
       "   Territorio   Tipo dato                                         Misura  \\\n",
       "44   Piemonte   sottopeso  per 100 persone con le stesse caratteristiche   \n",
       "45   Piemonte   normopeso  per 100 persone con le stesse caratteristiche   \n",
       "46   Piemonte  sovrappeso  per 100 persone con le stesse caratteristiche   \n",
       "47   Piemonte       obesi  per 100 persone con le stesse caratteristiche   \n",
       "\n",
       "     Sesso  TIME  Value  \n",
       "44  totale  2020    3.5  \n",
       "45  totale  2020   52.0  \n",
       "46  totale  2020   33.8  \n",
       "47  totale  2020   10.6  "
      ]
     },
     "execution_count": 217,
     "metadata": {},
     "output_type": "execute_result"
    }
   ],
   "source": [
    "territorio[(territorio['Territorio'] == 'Piemonte') & (territorio['Misura'] == 'per 100 persone con le stesse caratteristiche')]"
   ]
  },
  {
   "cell_type": "code",
   "execution_count": 218,
   "metadata": {},
   "outputs": [
    {
     "data": {
      "text/html": [
       "<div>\n",
       "<style scoped>\n",
       "    .dataframe tbody tr th:only-of-type {\n",
       "        vertical-align: middle;\n",
       "    }\n",
       "\n",
       "    .dataframe tbody tr th {\n",
       "        vertical-align: top;\n",
       "    }\n",
       "\n",
       "    .dataframe thead th {\n",
       "        text-align: right;\n",
       "    }\n",
       "</style>\n",
       "<table border=\"1\" class=\"dataframe\">\n",
       "  <thead>\n",
       "    <tr style=\"text-align: right;\">\n",
       "      <th></th>\n",
       "      <th>Territorio</th>\n",
       "      <th>Tipo dato</th>\n",
       "      <th>Misura</th>\n",
       "      <th>Sesso</th>\n",
       "      <th>TIME</th>\n",
       "      <th>Value</th>\n",
       "    </tr>\n",
       "  </thead>\n",
       "  <tbody>\n",
       "    <tr>\n",
       "      <th>44</th>\n",
       "      <td>Piemonte</td>\n",
       "      <td>sottopeso</td>\n",
       "      <td>per 100 persone con le stesse caratteristiche</td>\n",
       "      <td>totale</td>\n",
       "      <td>2020</td>\n",
       "      <td>3.5</td>\n",
       "    </tr>\n",
       "    <tr>\n",
       "      <th>45</th>\n",
       "      <td>Piemonte</td>\n",
       "      <td>normopeso</td>\n",
       "      <td>per 100 persone con le stesse caratteristiche</td>\n",
       "      <td>totale</td>\n",
       "      <td>2020</td>\n",
       "      <td>52.0</td>\n",
       "    </tr>\n",
       "    <tr>\n",
       "      <th>46</th>\n",
       "      <td>Piemonte</td>\n",
       "      <td>sovrappeso</td>\n",
       "      <td>per 100 persone con le stesse caratteristiche</td>\n",
       "      <td>totale</td>\n",
       "      <td>2020</td>\n",
       "      <td>33.8</td>\n",
       "    </tr>\n",
       "    <tr>\n",
       "      <th>47</th>\n",
       "      <td>Piemonte</td>\n",
       "      <td>obesi</td>\n",
       "      <td>per 100 persone con le stesse caratteristiche</td>\n",
       "      <td>totale</td>\n",
       "      <td>2020</td>\n",
       "      <td>10.6</td>\n",
       "    </tr>\n",
       "  </tbody>\n",
       "</table>\n",
       "</div>"
      ],
      "text/plain": [
       "   Territorio   Tipo dato                                         Misura  \\\n",
       "44   Piemonte   sottopeso  per 100 persone con le stesse caratteristiche   \n",
       "45   Piemonte   normopeso  per 100 persone con le stesse caratteristiche   \n",
       "46   Piemonte  sovrappeso  per 100 persone con le stesse caratteristiche   \n",
       "47   Piemonte       obesi  per 100 persone con le stesse caratteristiche   \n",
       "\n",
       "     Sesso  TIME  Value  \n",
       "44  totale  2020    3.5  \n",
       "45  totale  2020   52.0  \n",
       "46  totale  2020   33.8  \n",
       "47  totale  2020   10.6  "
      ]
     },
     "execution_count": 218,
     "metadata": {},
     "output_type": "execute_result"
    }
   ],
   "source": [
    "territorio.iloc[44:48]"
   ]
  },
  {
   "cell_type": "code",
   "execution_count": 219,
   "metadata": {},
   "outputs": [],
   "source": [
    "regione_piemonte = territorio.iloc[44:48]"
   ]
  },
  {
   "cell_type": "code",
   "execution_count": 220,
   "metadata": {},
   "outputs": [],
   "source": [
    "a = regione_piemonte[['Tipo dato', 'Value']]"
   ]
  },
  {
   "cell_type": "code",
   "execution_count": 221,
   "metadata": {},
   "outputs": [
    {
     "data": {
      "text/plain": [
       "Value    44.4\n",
       "dtype: float64"
      ]
     },
     "execution_count": 221,
     "metadata": {},
     "output_type": "execute_result"
    }
   ],
   "source": [
    "tot_piemonte = a[(a['Tipo dato'] == 'sovrappeso') | (a['Tipo dato'] == 'obesi')]\n",
    "tot_piemonte = tot_piemonte.groupby(['Tipo dato']).sum()\n",
    "sum1 = tot_piemonte.sum()\n",
    "sum1"
   ]
  },
  {
   "cell_type": "code",
   "execution_count": 222,
   "metadata": {},
   "outputs": [],
   "source": [
    "regione_aosta = territorio.iloc[54:58]"
   ]
  },
  {
   "cell_type": "code",
   "execution_count": 223,
   "metadata": {},
   "outputs": [],
   "source": [
    "b = regione_aosta[['Tipo dato', 'Value']]"
   ]
  },
  {
   "cell_type": "code",
   "execution_count": 224,
   "metadata": {},
   "outputs": [
    {
     "data": {
      "text/plain": [
       "Value    44.3\n",
       "dtype: float64"
      ]
     },
     "execution_count": 224,
     "metadata": {},
     "output_type": "execute_result"
    }
   ],
   "source": [
    "tot_aosta = b[(b['Tipo dato'] == 'sovrappeso') | (b['Tipo dato'] == 'obesi')]\n",
    "tot_aosta = tot_aosta.groupby(['Tipo dato']).sum()\n",
    "sum2 = tot_aosta.sum()\n",
    "sum2"
   ]
  },
  {
   "cell_type": "code",
   "execution_count": 225,
   "metadata": {},
   "outputs": [],
   "source": [
    "regione_liguria = territorio.iloc[62:66]"
   ]
  },
  {
   "cell_type": "code",
   "execution_count": 226,
   "metadata": {},
   "outputs": [],
   "source": [
    "c = regione_liguria[['Tipo dato', 'Value']]"
   ]
  },
  {
   "cell_type": "code",
   "execution_count": 227,
   "metadata": {},
   "outputs": [
    {
     "data": {
      "text/plain": [
       "Value    45.2\n",
       "dtype: float64"
      ]
     },
     "execution_count": 227,
     "metadata": {},
     "output_type": "execute_result"
    }
   ],
   "source": [
    "tot_liguria = c[(c['Tipo dato'] == 'sovrappeso') | (c['Tipo dato'] == 'obesi')]\n",
    "tot_liguria = tot_liguria.groupby(['Tipo dato']).sum()\n",
    "sum3 = tot_liguria.sum()\n",
    "sum3"
   ]
  },
  {
   "cell_type": "code",
   "execution_count": 228,
   "metadata": {},
   "outputs": [],
   "source": [
    "regione_lombardia = territorio.iloc[70:74]"
   ]
  },
  {
   "cell_type": "code",
   "execution_count": 229,
   "metadata": {},
   "outputs": [],
   "source": [
    "d = regione_lombardia[['Tipo dato', 'Value']]"
   ]
  },
  {
   "cell_type": "code",
   "execution_count": 230,
   "metadata": {},
   "outputs": [
    {
     "data": {
      "text/plain": [
       "Value    44.9\n",
       "dtype: float64"
      ]
     },
     "execution_count": 230,
     "metadata": {},
     "output_type": "execute_result"
    }
   ],
   "source": [
    "tot_lombardia = d[(d['Tipo dato'] == 'sovrappeso') | (d['Tipo dato'] == 'obesi')]\n",
    "tot_lombardia = tot_lombardia.groupby(['Tipo dato']).sum()\n",
    "sum4 = tot_lombardia.sum()\n",
    "sum4"
   ]
  },
  {
   "cell_type": "code",
   "execution_count": 231,
   "metadata": {},
   "outputs": [],
   "source": [
    "regione_trentino = territorio.iloc[86:90]"
   ]
  },
  {
   "cell_type": "code",
   "execution_count": 232,
   "metadata": {},
   "outputs": [],
   "source": [
    "e = regione_trentino[['Tipo dato', 'Value']]"
   ]
  },
  {
   "cell_type": "code",
   "execution_count": 233,
   "metadata": {},
   "outputs": [
    {
     "data": {
      "text/plain": [
       "Value    41.2\n",
       "dtype: float64"
      ]
     },
     "execution_count": 233,
     "metadata": {},
     "output_type": "execute_result"
    }
   ],
   "source": [
    "tot_trentino = e[(e['Tipo dato'] == 'sovrappeso') | (e['Tipo dato'] == 'obesi')]\n",
    "tot_trentino = tot_trentino.groupby(['Tipo dato']).sum()\n",
    "sum5 = tot_trentino.sum()\n",
    "sum5"
   ]
  },
  {
   "cell_type": "code",
   "execution_count": 234,
   "metadata": {},
   "outputs": [],
   "source": [
    "regione_bolzano = territorio.iloc[94:98]"
   ]
  },
  {
   "cell_type": "code",
   "execution_count": 235,
   "metadata": {},
   "outputs": [],
   "source": [
    "f = regione_bolzano[['Tipo dato', 'Value']]"
   ]
  },
  {
   "cell_type": "code",
   "execution_count": 236,
   "metadata": {},
   "outputs": [
    {
     "data": {
      "text/plain": [
       "Value    41.7\n",
       "dtype: float64"
      ]
     },
     "execution_count": 236,
     "metadata": {},
     "output_type": "execute_result"
    }
   ],
   "source": [
    "tot_bolzano = f[(f['Tipo dato'] == 'sovrappeso') | (f['Tipo dato'] == 'obesi')]\n",
    "tot_bolzano = tot_bolzano.groupby(['Tipo dato']).sum()\n",
    "sum6 = tot_bolzano.sum()\n",
    "sum6"
   ]
  },
  {
   "cell_type": "code",
   "execution_count": 237,
   "metadata": {},
   "outputs": [],
   "source": [
    "regione_trento = territorio.iloc[102:106]"
   ]
  },
  {
   "cell_type": "code",
   "execution_count": 238,
   "metadata": {},
   "outputs": [],
   "source": [
    "g = regione_trento[['Tipo dato', 'Value']]"
   ]
  },
  {
   "cell_type": "code",
   "execution_count": 239,
   "metadata": {},
   "outputs": [
    {
     "data": {
      "text/plain": [
       "Value    40.9\n",
       "dtype: float64"
      ]
     },
     "execution_count": 239,
     "metadata": {},
     "output_type": "execute_result"
    }
   ],
   "source": [
    "tot_trento= g[(g['Tipo dato'] == 'sovrappeso') | (g['Tipo dato'] == 'obesi')]\n",
    "tot_trento = tot_trento.groupby(['Tipo dato']).sum()\n",
    "sum7 = tot_trento.sum()\n",
    "sum7"
   ]
  },
  {
   "cell_type": "code",
   "execution_count": 240,
   "metadata": {},
   "outputs": [],
   "source": [
    "regione_veneto = territorio.iloc[110:114]"
   ]
  },
  {
   "cell_type": "code",
   "execution_count": 241,
   "metadata": {},
   "outputs": [],
   "source": [
    "h = regione_veneto[['Tipo dato', 'Value']]"
   ]
  },
  {
   "cell_type": "code",
   "execution_count": 242,
   "metadata": {},
   "outputs": [
    {
     "data": {
      "text/plain": [
       "Value    46.1\n",
       "dtype: float64"
      ]
     },
     "execution_count": 242,
     "metadata": {},
     "output_type": "execute_result"
    }
   ],
   "source": [
    "tot_veneto = h[(h['Tipo dato'] == 'sovrappeso') | (h['Tipo dato'] == 'obesi')]\n",
    "tot_veneto = tot_veneto.groupby(['Tipo dato']).sum()\n",
    "sum8 = tot_veneto.sum()\n",
    "sum8"
   ]
  },
  {
   "cell_type": "code",
   "execution_count": 282,
   "metadata": {},
   "outputs": [],
   "source": [
    "regione_friuli = territorio.iloc[118:122]"
   ]
  },
  {
   "cell_type": "code",
   "execution_count": 283,
   "metadata": {},
   "outputs": [],
   "source": [
    "i = regione_friuli[['Tipo dato', 'Value']]"
   ]
  },
  {
   "cell_type": "code",
   "execution_count": 284,
   "metadata": {},
   "outputs": [
    {
     "data": {
      "text/plain": [
       "Value    46.8\n",
       "dtype: float64"
      ]
     },
     "execution_count": 284,
     "metadata": {},
     "output_type": "execute_result"
    }
   ],
   "source": [
    "tot_friuli = i[(i['Tipo dato'] == 'sovrappeso') | (i['Tipo dato'] == 'obesi')]\n",
    "tot_friuli = tot_friuli.groupby(['Tipo dato']).sum()\n",
    "sum9 = tot_friuli.sum()\n",
    "sum9"
   ]
  },
  {
   "cell_type": "code",
   "execution_count": 285,
   "metadata": {},
   "outputs": [],
   "source": [
    "regione_emilia = territorio.iloc[126:130]"
   ]
  },
  {
   "cell_type": "code",
   "execution_count": 286,
   "metadata": {},
   "outputs": [],
   "source": [
    "j = regione_emilia[['Tipo dato', 'Value']]"
   ]
  },
  {
   "cell_type": "code",
   "execution_count": 287,
   "metadata": {},
   "outputs": [
    {
     "data": {
      "text/plain": [
       "Value    48.6\n",
       "dtype: float64"
      ]
     },
     "execution_count": 287,
     "metadata": {},
     "output_type": "execute_result"
    }
   ],
   "source": [
    "tot_emilia = j[(j['Tipo dato'] == 'sovrappeso') | (j['Tipo dato'] == 'obesi')]\n",
    "tot_emilia = tot_emilia.groupby(['Tipo dato']).sum()\n",
    "sum10 = tot_emilia.sum()\n",
    "sum10"
   ]
  },
  {
   "cell_type": "code",
   "execution_count": 246,
   "metadata": {},
   "outputs": [],
   "source": [
    "regione_toscana = territorio.iloc[142:146]"
   ]
  },
  {
   "cell_type": "code",
   "execution_count": 247,
   "metadata": {},
   "outputs": [],
   "source": [
    "k = regione_toscana[['Tipo dato', 'Value']]"
   ]
  },
  {
   "cell_type": "code",
   "execution_count": 248,
   "metadata": {},
   "outputs": [
    {
     "data": {
      "text/plain": [
       "Value    43.3\n",
       "dtype: float64"
      ]
     },
     "execution_count": 248,
     "metadata": {},
     "output_type": "execute_result"
    }
   ],
   "source": [
    "tot_toscana = k[(k['Tipo dato'] == 'sovrappeso') | (k['Tipo dato'] == 'obesi')]\n",
    "tot_toscana = tot_toscana.groupby(['Tipo dato']).sum()\n",
    "sum11 = tot_toscana.sum()\n",
    "sum11"
   ]
  },
  {
   "cell_type": "code",
   "execution_count": 249,
   "metadata": {},
   "outputs": [],
   "source": [
    "regione_umbria = territorio.iloc[150:154]"
   ]
  },
  {
   "cell_type": "code",
   "execution_count": 250,
   "metadata": {},
   "outputs": [],
   "source": [
    "l = regione_umbria[['Tipo dato', 'Value']]"
   ]
  },
  {
   "cell_type": "code",
   "execution_count": 251,
   "metadata": {},
   "outputs": [
    {
     "data": {
      "text/plain": [
       "Value    46.3\n",
       "dtype: float64"
      ]
     },
     "execution_count": 251,
     "metadata": {},
     "output_type": "execute_result"
    }
   ],
   "source": [
    "tot_umbria = l[(l['Tipo dato'] == 'sovrappeso') | (l['Tipo dato'] == 'obesi')]\n",
    "tot_umbria = tot_umbria.groupby(['Tipo dato']).sum()\n",
    "sum12 = tot_umbria.sum()\n",
    "sum12"
   ]
  },
  {
   "cell_type": "code",
   "execution_count": 252,
   "metadata": {},
   "outputs": [],
   "source": [
    "regione_marche = territorio.iloc[158:162]"
   ]
  },
  {
   "cell_type": "code",
   "execution_count": 253,
   "metadata": {},
   "outputs": [],
   "source": [
    "m = regione_marche[['Tipo dato', 'Value']]"
   ]
  },
  {
   "cell_type": "code",
   "execution_count": 254,
   "metadata": {},
   "outputs": [
    {
     "data": {
      "text/plain": [
       "Value    46.0\n",
       "dtype: float64"
      ]
     },
     "execution_count": 254,
     "metadata": {},
     "output_type": "execute_result"
    }
   ],
   "source": [
    "tot_marche = m[(m['Tipo dato'] == 'sovrappeso') | (m['Tipo dato'] == 'obesi')]\n",
    "tot_marche = tot_marche.groupby(['Tipo dato']).sum()\n",
    "sum13 = tot_marche.sum()\n",
    "sum13"
   ]
  },
  {
   "cell_type": "code",
   "execution_count": 255,
   "metadata": {},
   "outputs": [],
   "source": [
    "regione_lazio = territorio.iloc[166:170]"
   ]
  },
  {
   "cell_type": "code",
   "execution_count": 256,
   "metadata": {},
   "outputs": [],
   "source": [
    "n = regione_lazio[['Tipo dato', 'Value']]"
   ]
  },
  {
   "cell_type": "code",
   "execution_count": 257,
   "metadata": {},
   "outputs": [
    {
     "data": {
      "text/plain": [
       "Value    45.0\n",
       "dtype: float64"
      ]
     },
     "execution_count": 257,
     "metadata": {},
     "output_type": "execute_result"
    }
   ],
   "source": [
    "tot_lazio = n[(n['Tipo dato'] == 'sovrappeso') | (n['Tipo dato'] == 'obesi')]\n",
    "tot_lazio = tot_lazio.groupby(['Tipo dato']).sum()\n",
    "sum14 = tot_lazio.sum()\n",
    "sum14"
   ]
  },
  {
   "cell_type": "code",
   "execution_count": 288,
   "metadata": {},
   "outputs": [],
   "source": [
    "regione_abruzzo = territorio.iloc[190:194]"
   ]
  },
  {
   "cell_type": "code",
   "execution_count": 289,
   "metadata": {},
   "outputs": [],
   "source": [
    "o = regione_abruzzo[['Tipo dato', 'Value']]"
   ]
  },
  {
   "cell_type": "code",
   "execution_count": 290,
   "metadata": {},
   "outputs": [
    {
     "data": {
      "text/plain": [
       "Value    49.8\n",
       "dtype: float64"
      ]
     },
     "execution_count": 290,
     "metadata": {},
     "output_type": "execute_result"
    }
   ],
   "source": [
    "tot_abruzzo = o[(o['Tipo dato'] == 'sovrappeso') | (o['Tipo dato'] == 'obesi')]\n",
    "tot_abruzzo = tot_abruzzo.groupby(['Tipo dato']).sum()\n",
    "sum15 = tot_abruzzo.sum()\n",
    "sum15"
   ]
  },
  {
   "cell_type": "code",
   "execution_count": 258,
   "metadata": {},
   "outputs": [],
   "source": [
    "regione_molise = territorio.iloc[198:202]"
   ]
  },
  {
   "cell_type": "code",
   "execution_count": 259,
   "metadata": {},
   "outputs": [],
   "source": [
    "p = regione_molise[['Tipo dato', 'Value']]"
   ]
  },
  {
   "cell_type": "code",
   "execution_count": 260,
   "metadata": {},
   "outputs": [
    {
     "data": {
      "text/plain": [
       "Value    51.9\n",
       "dtype: float64"
      ]
     },
     "execution_count": 260,
     "metadata": {},
     "output_type": "execute_result"
    }
   ],
   "source": [
    "tot_molise = p[(p['Tipo dato'] == 'sovrappeso') | (p['Tipo dato'] == 'obesi')]\n",
    "tot_molise = tot_molise.groupby(['Tipo dato']).sum()\n",
    "sum16 = tot_molise.sum()\n",
    "sum16"
   ]
  },
  {
   "cell_type": "code",
   "execution_count": 261,
   "metadata": {},
   "outputs": [],
   "source": [
    "regione_campania = territorio.iloc[206:210]"
   ]
  },
  {
   "cell_type": "code",
   "execution_count": 262,
   "metadata": {},
   "outputs": [],
   "source": [
    "q = regione_campania[['Tipo dato', 'Value']]"
   ]
  },
  {
   "cell_type": "code",
   "execution_count": 263,
   "metadata": {},
   "outputs": [
    {
     "data": {
      "text/plain": [
       "Value    56.3\n",
       "dtype: float64"
      ]
     },
     "execution_count": 263,
     "metadata": {},
     "output_type": "execute_result"
    }
   ],
   "source": [
    "tot_campania = q[(q['Tipo dato'] == 'sovrappeso') | (q['Tipo dato'] == 'obesi')]\n",
    "tot_campania = tot_campania.groupby(['Tipo dato']).sum()\n",
    "sum17 = tot_campania.sum()\n",
    "sum17"
   ]
  },
  {
   "cell_type": "code",
   "execution_count": 264,
   "metadata": {},
   "outputs": [],
   "source": [
    "regione_puglia = territorio.iloc[214:218]"
   ]
  },
  {
   "cell_type": "code",
   "execution_count": 265,
   "metadata": {},
   "outputs": [],
   "source": [
    "r = regione_puglia[['Tipo dato', 'Value']]"
   ]
  },
  {
   "cell_type": "code",
   "execution_count": 266,
   "metadata": {},
   "outputs": [
    {
     "data": {
      "text/plain": [
       "Value    50.5\n",
       "dtype: float64"
      ]
     },
     "execution_count": 266,
     "metadata": {},
     "output_type": "execute_result"
    }
   ],
   "source": [
    "tot_puglia = r[(r['Tipo dato'] == 'sovrappeso') | (r['Tipo dato'] == 'obesi')]\n",
    "tot_puglia = tot_puglia.groupby(['Tipo dato']).sum()\n",
    "sum18 = tot_puglia.sum()\n",
    "sum18"
   ]
  },
  {
   "cell_type": "code",
   "execution_count": 267,
   "metadata": {},
   "outputs": [],
   "source": [
    "regione_basilicata = territorio.iloc[222:226]"
   ]
  },
  {
   "cell_type": "code",
   "execution_count": 268,
   "metadata": {},
   "outputs": [],
   "source": [
    "s = regione_basilicata[['Tipo dato', 'Value']]"
   ]
  },
  {
   "cell_type": "code",
   "execution_count": 269,
   "metadata": {},
   "outputs": [
    {
     "data": {
      "text/plain": [
       "Value    53.4\n",
       "dtype: float64"
      ]
     },
     "execution_count": 269,
     "metadata": {},
     "output_type": "execute_result"
    }
   ],
   "source": [
    "tot_basilicata = s[(s['Tipo dato'] == 'sovrappeso') | (s['Tipo dato'] == 'obesi')]\n",
    "tot_basilicata = tot_basilicata.groupby(['Tipo dato']).sum()\n",
    "sum19 = tot_basilicata.sum()\n",
    "sum19"
   ]
  },
  {
   "cell_type": "code",
   "execution_count": 270,
   "metadata": {},
   "outputs": [],
   "source": [
    "regione_calabria = territorio.iloc[230:234]"
   ]
  },
  {
   "cell_type": "code",
   "execution_count": 271,
   "metadata": {},
   "outputs": [],
   "source": [
    "t = regione_calabria[['Tipo dato', 'Value']]"
   ]
  },
  {
   "cell_type": "code",
   "execution_count": 272,
   "metadata": {},
   "outputs": [
    {
     "data": {
      "text/plain": [
       "Value    50.3\n",
       "dtype: float64"
      ]
     },
     "execution_count": 272,
     "metadata": {},
     "output_type": "execute_result"
    }
   ],
   "source": [
    "tot_calabria = t[(t['Tipo dato'] == 'sovrappeso') | (t['Tipo dato'] == 'obesi')]\n",
    "tot_calabria = tot_calabria.groupby(['Tipo dato']).sum()\n",
    "sum20 = tot_calabria.sum()\n",
    "sum20"
   ]
  },
  {
   "cell_type": "code",
   "execution_count": 273,
   "metadata": {},
   "outputs": [],
   "source": [
    "regione_sicilia = territorio.iloc[246:250]"
   ]
  },
  {
   "cell_type": "code",
   "execution_count": 274,
   "metadata": {},
   "outputs": [],
   "source": [
    "u = regione_sicilia[['Tipo dato', 'Value']]"
   ]
  },
  {
   "cell_type": "code",
   "execution_count": 275,
   "metadata": {},
   "outputs": [
    {
     "data": {
      "text/plain": [
       "Value    52.1\n",
       "dtype: float64"
      ]
     },
     "execution_count": 275,
     "metadata": {},
     "output_type": "execute_result"
    }
   ],
   "source": [
    "tot_sicilia = u[(u['Tipo dato'] == 'sovrappeso') | (u['Tipo dato'] == 'obesi')]\n",
    "tot_sicilia = tot_sicilia.groupby(['Tipo dato']).sum()\n",
    "sum21 = tot_sicilia.sum()\n",
    "sum21"
   ]
  },
  {
   "cell_type": "code",
   "execution_count": 276,
   "metadata": {},
   "outputs": [],
   "source": [
    "regione_sardegna = territorio.iloc[254:258]"
   ]
  },
  {
   "cell_type": "code",
   "execution_count": 277,
   "metadata": {},
   "outputs": [],
   "source": [
    "v = regione_sardegna[['Tipo dato', 'Value']]"
   ]
  },
  {
   "cell_type": "code",
   "execution_count": 278,
   "metadata": {},
   "outputs": [
    {
     "data": {
      "text/plain": [
       "Value    45.5\n",
       "dtype: float64"
      ]
     },
     "execution_count": 278,
     "metadata": {},
     "output_type": "execute_result"
    }
   ],
   "source": [
    "tot_sardegna = v[(v['Tipo dato'] == 'sovrappeso') | (v['Tipo dato'] == 'obesi')]\n",
    "tot_sardegna = tot_sardegna.groupby(['Tipo dato']).sum()\n",
    "sum22 = tot_sardegna.sum()\n",
    "sum22"
   ]
  },
  {
   "cell_type": "code",
   "execution_count": 291,
   "metadata": {},
   "outputs": [],
   "source": [
    "territorio.to_csv('out.csv')"
   ]
  },
  {
   "cell_type": "code",
   "execution_count": null,
   "metadata": {},
   "outputs": [],
   "source": []
  }
 ],
 "metadata": {
  "kernelspec": {
   "display_name": "Python 3",
   "language": "python",
   "name": "python3"
  },
  "language_info": {
   "codemirror_mode": {
    "name": "ipython",
    "version": 3
   },
   "file_extension": ".py",
   "mimetype": "text/x-python",
   "name": "python",
   "nbconvert_exporter": "python",
   "pygments_lexer": "ipython3",
   "version": "3.8.5"
  }
 },
 "nbformat": 4,
 "nbformat_minor": 4
}
